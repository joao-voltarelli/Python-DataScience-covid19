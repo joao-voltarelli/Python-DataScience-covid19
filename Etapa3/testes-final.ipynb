{
 "cells": [
  {
   "cell_type": "code",
   "execution_count": null,
   "metadata": {},
   "outputs": [
    {
     "name": "stdout",
     "output_type": "stream",
     "text": [
      "\n",
      "------------------------- Projeto Final -------------------------\n",
      "\n",
      "Digite 1 para visualizar o resultado do metodo de Elbow\n",
      "Digite 2 para visualizar o resultado do coeficiente do Silhouette\n",
      "Digite 3 para visualizar os clusters gerados\n",
      "Digite 4 para sair\n",
      "\n",
      "Digite sua opcao: 3\n",
      "\n",
      "\n",
      "Cluster que relaciona Income X Infected: \n"
     ]
    },
    {
     "data": {
      "text/plain": [
       "<Figure size 288x216 with 0 Axes>"
      ]
     },
     "metadata": {},
     "output_type": "display_data"
    },
    {
     "data": {
      "image/png": "[encoded data removed]",
      "text/plain": [
       "<Figure size 432x288 with 1 Axes>"
      ]
     },
     "metadata": {},
     "output_type": "display_data"
    },
    {
     "name": "stdout",
     "output_type": "stream",
     "text": [
      "\n",
      "\n",
      "Cluster que relaciona Income X Deaths: \n"
     ]
    },
    {
     "data": {
      "text/plain": [
       "<Figure size 288x216 with 0 Axes>"
      ]
     },
     "metadata": {},
     "output_type": "display_data"
    },
    {
     "data": {
      "image/png": "[encoded data removed]",
      "text/plain": [
       "<Figure size 432x288 with 1 Axes>"
      ]
     },
     "metadata": {},
     "output_type": "display_data"
    },
    {
     "name": "stdout",
     "output_type": "stream",
     "text": [
      "\n",
      "\n",
      "Cluster que considera Gini X Infected: \n"
     ]
    },
    {
     "data": {
      "text/plain": [
       "<Figure size 288x216 with 0 Axes>"
      ]
     },
     "metadata": {},
     "output_type": "display_data"
    },
    {
     "data": {
      "image/png": "[encoded data removed]",
      "text/plain": [
       "<Figure size 432x288 with 1 Axes>"
      ]
     },
     "metadata": {},
     "output_type": "display_data"
    },
    {
     "name": "stdout",
     "output_type": "stream",
     "text": [
      "\n",
      "\n",
      "Cluster que considera Gini X Deaths: \n"
     ]
    },
    {
     "data": {
      "text/plain": [
       "<Figure size 288x216 with 0 Axes>"
      ]
     },
     "metadata": {},
     "output_type": "display_data"
    },
    {
     "data": {
      "image/png": "[encoded data removed]",
      "text/plain": [
       "<Figure size 432x288 with 1 Axes>"
      ]
     },
     "metadata": {},
     "output_type": "display_data"
    },
    {
     "name": "stdout",
     "output_type": "stream",
     "text": [
      "\n",
      "------------------------- Projeto Final -------------------------\n",
      "\n",
      "Digite 1 para visualizar o resultado do metodo de Elbow\n",
      "Digite 2 para visualizar o resultado do coeficiente do Silhouette\n",
      "Digite 3 para visualizar os clusters gerados\n",
      "Digite 4 para sair\n"
     ]
    }
   ],
   "source": [
    "import pandas as pd\n",
    "import numpy as np\n",
    "import matplotlib.pyplot as plt\n",
    "from sklearn.cluster import KMeans\n",
    "from sklearn.preprocessing import MinMaxScaler\n",
    "from sklearn.metrics import silhouette_score, silhouette_samples\n",
    "import matplotlib.cm as cm\n",
    "import time\n",
    "\n",
    "data_cl1 = pd.read_csv('COVID19_state.csv')\n",
    "data_cl2 = pd.read_csv('COVID19_state.csv')\n",
    "data_cl3 = pd.read_csv('COVID19_state.csv')\n",
    "data_cl4 = pd.read_csv('COVID19_state.csv')\n",
    "\n",
    "#REMOVENDO DADOS QUE NÃO SERÃO RELEVANTES PARA O NOSSO MODELO\n",
    "\n",
    "#OBSERVANDO SOMENTE INCOME E INFECTED\n",
    "data_cl1.drop(['State', 'Sex Ratio', 'Smoking Rate', 'Flu Deaths', 'Respiratory Deaths', 'Physicians', 'Pollution', \n",
    "                  'Med-Large Airports', 'Temperature', 'Urban', 'Age 0-25', 'Age 26-54', 'Age 55+', \n",
    "                  'School Closure Date', 'Population', 'Pop Density', 'ICU Beds', 'Hospitals', 'Tested', 'Deaths',\n",
    "                  'GDP', 'Gini', 'Unemployment', 'Health Spending'], \n",
    "                   axis=1, inplace=True)\n",
    "\n",
    "#OBSERVANDO SOMENTE INCOME E DEATHS\n",
    "data_cl2.drop(['State', 'Sex Ratio', 'Smoking Rate', 'Flu Deaths', 'Respiratory Deaths', 'Physicians', 'Pollution', \n",
    "                  'Med-Large Airports', 'Temperature', 'Urban', 'Age 0-25', 'Age 26-54', 'Age 55+', \n",
    "                  'School Closure Date', 'Population', 'Pop Density', 'ICU Beds', 'Hospitals', 'Tested', 'Infected',\n",
    "                  'GDP', 'Gini', 'Unemployment', 'Health Spending'], \n",
    "                   axis=1, inplace=True)\n",
    "\n",
    "#OBSERVANDO SOMENTE INCOME, GINI E INFECTED\n",
    "data_cl3.drop(['State', 'Sex Ratio', 'Smoking Rate', 'Flu Deaths', 'Respiratory Deaths', 'Physicians', 'Pollution', \n",
    "                  'Med-Large Airports', 'Temperature', 'Urban', 'Age 0-25', 'Age 26-54', 'Age 55+', \n",
    "                  'School Closure Date', 'Population', 'Pop Density', 'ICU Beds', 'Hospitals', 'Tested', 'Deaths',\n",
    "                  'GDP', 'Unemployment', 'Health Spending'], \n",
    "                   axis=1, inplace=True)\n",
    "\n",
    "#OBSERVANDO SOMENTE INCOME, GINI E DEATHS\n",
    "data_cl4.drop(['State', 'Sex Ratio', 'Smoking Rate', 'Flu Deaths', 'Respiratory Deaths', 'Physicians', 'Pollution', \n",
    "                  'Med-Large Airports', 'Temperature', 'Urban', 'Age 0-25', 'Age 26-54', 'Age 55+', \n",
    "                  'School Closure Date', 'Population', 'Pop Density', 'ICU Beds', 'Hospitals', 'Tested', 'Infected',\n",
    "                  'GDP', 'Unemployment', 'Health Spending'], \n",
    "                   axis=1, inplace=True)\n",
    "\n",
    "\n",
    "def dados(dados):\n",
    "    mms = MinMaxScaler()\n",
    "    mms.fit(dados)\n",
    "    data_transformed = mms.transform(dados)\n",
    "    \n",
    "    return data_transformed\n",
    "\n",
    "\n",
    "def plot_clustering(data, labels, title=None):\n",
    "        x_min, x_max = np.min(data, axis=0), np.max(data, axis=0)\n",
    "        data = (data - x_min) / (x_max - x_min)\n",
    "        fig = plt.figure(1, figsize=(4, 3))\n",
    "        plt.figure(figsize=(6, 4))\n",
    "        plt.scatter(data[:, 0], data[:, 1],\n",
    "                c=labels.astype(np.float))\n",
    "        plt.xticks([])\n",
    "        plt.yticks([])\n",
    "        if title is not None:\n",
    "            plt.title(title, size=17)\n",
    "        plt.axis('off')\n",
    "        plt.tight_layout(rect=[0, 0.03, 1, 0.95])\n",
    "        \n",
    "\n",
    "def k_means(dados):\n",
    "    #EXECUTA O ALGORITMO K-MEANS COM BASE NO NUMERO DE CLUSTERS PASSADOS\n",
    "    kmeans = KMeans(n_clusters=2)\n",
    "    kmeans.fit(dados)\n",
    "    labels = kmeans.labels_\n",
    "    plot_clustering(dados, labels)\n",
    "    plt.show()\n",
    "\n",
    " \n",
    "def metodo_elbow(dados):\n",
    "    #UTILIZANDO METODO ELBOW PARA DESCOBRIR NUMERO DE CLUSTERS\n",
    "    Sum_of_squared_distances = []\n",
    "    K = range(1,15)\n",
    "    for k in K:\n",
    "        km = KMeans(n_clusters=k)\n",
    "        km = km.fit(dados)\n",
    "        Sum_of_squared_distances.append(km.inertia_)\n",
    "    plt.plot(K, Sum_of_squared_distances, 'bx-')\n",
    "    plt.xlabel('k')\n",
    "    plt.ylabel('Sum_of_squared_distances')\n",
    "    plt.title('Elbow Method For Optimal k')\n",
    "    plt.show()\n",
    "\n",
    "    \n",
    "def coef_silhouette(data_transformed):\n",
    "    range_n_clusters = [2, 3, 4, 5, 6]\n",
    "    for n_clusters in range_n_clusters:\n",
    "        # Create a subplot with 1 row and 2 columns\n",
    "        fig, (ax1, ax2) = plt.subplots(1, 2)\n",
    "        fig.set_size_inches(18, 7)\n",
    "        # The 1st subplot is the silhouette plot\n",
    "        # The silhouette coefficient can range from -1, 1 but in this example all\n",
    "        # lie within [-0.1, 1]\n",
    "        ax1.set_xlim([-0.1, 1])\n",
    "        # The (n_clusters+1)*10 is for inserting blank space between silhouette\n",
    "        # plots of individual clusters, to demarcate them clearly.\n",
    "        ax1.set_ylim([0, len(data_transformed) + (n_clusters + 1) * 10])\n",
    "        # Initialize the clusterer with n_clusters value and a random generator\n",
    "        # seed of 10 for reproducibility.\n",
    "        clusterer = KMeans(n_clusters=n_clusters, random_state=10)\n",
    "        cluster_labels = clusterer.fit_predict(data_transformed)\n",
    "    # The silhouette_score gives the average value for all the samples.\n",
    "        # This gives a perspective into the density and separation of the formed\n",
    "        # clusters\n",
    "        silhouette_avg = silhouette_score(data_transformed, cluster_labels)\n",
    "        print(\"Para n_clusters =\", n_clusters,\n",
    "              \"O score_silhouette médio é :\", silhouette_avg)\n",
    "        # Compute the silhouette scores for each sample\n",
    "        sample_silhouette_values = silhouette_samples(data_transformed, cluster_labels)\n",
    "        y_lower = 10\n",
    "        for i in range(n_clusters):\n",
    "            # Aggregate the silhouette scores for samples belonging to\n",
    "            # cluster i, and sort them\n",
    "            ith_cluster_silhouette_values = \\\n",
    "                sample_silhouette_values[cluster_labels == i]\n",
    "            ith_cluster_silhouette_values.sort()\n",
    "            size_cluster_i = ith_cluster_silhouette_values.shape[0]\n",
    "            y_upper = y_lower + size_cluster_i\n",
    "            color = cm.nipy_spectral(float(i) / n_clusters)\n",
    "            ax1.fill_betweenx(np.arange(y_lower, y_upper),\n",
    "                              0, ith_cluster_silhouette_values,\n",
    "                              facecolor=color, edgecolor=color,       alpha=0.7)\n",
    "            # Label the silhouette plots with their cluster numbers at the middle\n",
    "            ax1.text(-0.05, y_lower + 0.5 * size_cluster_i, str(i))\n",
    "            # Compute the new y_lower for next plot\n",
    "            y_lower = y_upper + 10  # 10 for the 0 samples\n",
    "        ax1.set_title(\"The silhouette plot for the various clusters.\")\n",
    "        ax1.set_xlabel(\"The silhouette coefficient values\")\n",
    "        ax1.set_ylabel(\"Cluster label\")\n",
    "        # The vertical line for average silhouette score of all the values\n",
    "        ax1.axvline(x=silhouette_avg, color=\"red\", linestyle=\"--\")\n",
    "        ax1.set_yticks([])  # Clear the yaxis labels / ticks\n",
    "        ax1.set_xticks([-0.1, 0, 0.2, 0.4, 0.6, 0.8, 1])\n",
    "        # 2nd Plot showing the actual clusters formed\n",
    "        colors = cm.nipy_spectral(cluster_labels.astype(float) / n_clusters)\n",
    "        ax2.scatter(data_transformed[:, 0], data_transformed[:, 1], marker='.', s=30, lw=0, alpha=0.7,\n",
    "                    c=colors, edgecolor='k')\n",
    "        # Labeling the clusters\n",
    "        centers = clusterer.cluster_centers_\n",
    "        # Draw white circles at cluster centers\n",
    "        ax2.scatter(centers[:, 0], centers[:, 1], marker='o',\n",
    "                    c=\"white\", alpha=1, s=200, edgecolor='k')\n",
    "        for i, c in enumerate(centers):\n",
    "            ax2.scatter(c[0], c[1], marker='$%d$' % i, alpha=1,\n",
    "                        s=50, edgecolor='k')\n",
    "        ax2.set_title(\"The visualization of the clustered data.\")\n",
    "        ax2.set_xlabel(\"Feature space for the 1st feature\")\n",
    "        ax2.set_ylabel(\"Feature space for the 2nd feature\")\n",
    "        plt.suptitle((\"Silhouette analysis for KMeans clustering on sample data \"\n",
    "                      \"with n_clusters = %d\" % n_clusters),\n",
    "                     fontsize=14, fontweight='bold')\n",
    "    plt.show()\n",
    "        \n",
    "\n",
    "def menu():\n",
    "    opcao = 0\n",
    "    while opcao != 4:\n",
    "        print(\"\\n------------------------- Projeto Final -------------------------\")\n",
    "        print(\"\\nDigite 1 para visualizar o resultado do metodo de Elbow\")\n",
    "        print(\"Digite 2 para visualizar o resultado do coeficiente do Silhouette\")\n",
    "        print(\"Digite 3 para visualizar os clusters gerados\")\n",
    "        print(\"Digite 4 para sair\")\n",
    "        opcao = int(input(\"\\nDigite sua opcao: \"))\n",
    "\n",
    "        if opcao == 1:\n",
    "            print(\"\\n\\nMetodo de Elbow: \")\n",
    "            dados_elbow = dados(data_cl1)\n",
    "            metodo_elbow(dados_elbow)\n",
    "    \n",
    "        elif opcao == 2:\n",
    "            print(\"\\n\\nCoeficiente de Silhouette: \\n\")\n",
    "            dados_silhouette = dados(data_cl1)\n",
    "            coef_silhouette(dados_silhouette)\n",
    "\n",
    "        elif opcao == 3:\n",
    "            print(\"\\n\\nCluster que relaciona Income X Infected: \")\n",
    "            dados1 = dados(data_cl1)\n",
    "            k_means(dados1)\n",
    "    \n",
    "            print(\"\\n\\nCluster que relaciona Income X Deaths: \")\n",
    "            dados1 = dados(data_cl2)\n",
    "            k_means(dados1)\n",
    "    \n",
    "            print(\"\\n\\nCluster que considera Gini X Infected: \")\n",
    "            dados1 = dados(data_cl3)\n",
    "            k_means(dados1)\n",
    "    \n",
    "            print(\"\\n\\nCluster que considera Gini X Deaths: \")\n",
    "            dados1 = dados(data_cl4)\n",
    "            k_means(dados1)\n",
    "\n",
    "        elif opcao == 4:\n",
    "            print(\"Saindo...\")\n",
    "    \n",
    "        else:\n",
    "            print(\"Opcao invalida!\")\n",
    "            \n",
    "menu()"
   ]
  },
  {
   "cell_type": "code",
   "execution_count": null,
   "metadata": {},
   "outputs": [],
   "source": []
  },
  {
   "cell_type": "code",
   "execution_count": null,
   "metadata": {},
   "outputs": [],
   "source": []
  }
 ],
 "metadata": {
  "kernelspec": {
   "display_name": "Python 3",
   "language": "python",
   "name": "python3"
  },
  "language_info": {
   "codemirror_mode": {
    "name": "ipython",
    "version": 3
   },
   "file_extension": ".py",
   "mimetype": "text/x-python",
   "name": "python",
   "nbconvert_exporter": "python",
   "pygments_lexer": "ipython3",
   "version": "3.8.1"
  }
 },
 "nbformat": 4,
 "nbformat_minor": 4
}
